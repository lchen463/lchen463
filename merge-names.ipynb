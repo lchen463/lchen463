{
 "cells": [
  {
   "cell_type": "code",
   "execution_count": null,
   "metadata": {},
   "outputs": [],
   "source": [
    "import pandas as pd\n",
    "import numpy as np\n",
    "import sys\n",
    "sys.setrecursionlimit(1500)\n",
    "import pickle\n",
    "import resource\n",
    "import sys\n",
    "\n",
    "df_master = pd.read_csv(\"database_2021_05_13.csv\")\n",
    "df_master.head()\n",
    "#show minimal information\n",
    "columns = ['rid', 'smiles', 'name_iupac_st', 'name_iupac_so', 'other_names', 'abbreviations','normalized_names']\n",
    "df_master = df_master[columns]\n",
    "df_master=df_master.drop_duplicates(subset='rid')\n",
    "df_master['all_names']=''\n",
    "\n",
    "##summary all names\n",
    "\n",
    "for ind in df_master.index:\n",
    "\n",
    "    names_src=['name_iupac_st', 'name_iupac_so', 'other_names', 'abbreviations','normalized_names']\n",
    "    names=[]\n",
    "\n",
    "    for i in names_src:\n",
    "       a=df_master[i][ind]\n",
    "\n",
    "       if (a !=None) and (str(a)!='nan'):\n",
    "           a=a[1:-1] ##remove []\n",
    "           for x in a.split(', '):                                  \n",
    "              x=x[1:-1]    ##remove \"\"          \n",
    "              if x not in names:\n",
    "                  if (x !='on') and (x !=' ,') and (x!=''):\n",
    "                       names.append(x)\n",
    "    names=list(set(names)) #remove duplicated names\n",
    "    if len(names)>0:\n",
    "         df_master['all_names'][ind]=names\n",
    "    \n",
    "df_master.to_csv('polymer_name_smiles_list.csv')    "
   ]
  }
 ],
 "metadata": {
  "kernelspec": {
   "display_name": "Python 3",
   "language": "python",
   "name": "python3"
  },
  "language_info": {
   "codemirror_mode": {
    "name": "ipython",
    "version": 3
   },
   "file_extension": ".py",
   "mimetype": "text/x-python",
   "name": "python",
   "nbconvert_exporter": "python",
   "pygments_lexer": "ipython3",
   "version": "3.7.1"
  }
 },
 "nbformat": 4,
 "nbformat_minor": 2
}
